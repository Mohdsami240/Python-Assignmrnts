{
 "cells": [
  {
   "cell_type": "code",
   "execution_count": 17,
   "id": "a5387cdf",
   "metadata": {},
   "outputs": [
    {
     "name": "stdout",
     "output_type": "stream",
     "text": [
      "Enter first name  ana\n",
      "Enter your last name  musheer\n",
      "reehsum ana\n"
     ]
    }
   ],
   "source": [
    "first_name = input(\"Enter first name  \")\n",
    "last_name = input(\"Enter your last name  \")\n",
    "\n",
    "rev_last_name = last_name[-1::-1]\n",
    "rev_first_name = first_name[-1::-1]\n",
    "Rev_name = rev_last_name + \" \" + rev_first_name\n",
    "print(Rev_name)\n"
   ]
  },
  {
   "cell_type": "code",
   "execution_count": null,
   "id": "4dffa644",
   "metadata": {},
   "outputs": [],
   "source": []
  }
 ],
 "metadata": {
  "kernelspec": {
   "display_name": "Python 3",
   "language": "python",
   "name": "python3"
  },
  "language_info": {
   "codemirror_mode": {
    "name": "ipython",
    "version": 3
   },
   "file_extension": ".py",
   "mimetype": "text/x-python",
   "name": "python",
   "nbconvert_exporter": "python",
   "pygments_lexer": "ipython3",
   "version": "3.8.8"
  }
 },
 "nbformat": 4,
 "nbformat_minor": 5
}
