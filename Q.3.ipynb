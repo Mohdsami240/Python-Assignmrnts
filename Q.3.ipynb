{
 "cells": [
  {
   "cell_type": "code",
   "execution_count": 18,
   "id": "f17565c9",
   "metadata": {},
   "outputs": [],
   "source": [
    "import math\n",
    "r = 12\n",
    "pi = math.pi\n",
    "volume = 3/4*pi*r*r*r\n"
   ]
  },
  {
   "cell_type": "code",
   "execution_count": 19,
   "id": "f036f39b",
   "metadata": {},
   "outputs": [
    {
     "data": {
      "text/plain": [
       "4071.5040790523717"
      ]
     },
     "execution_count": 19,
     "metadata": {},
     "output_type": "execute_result"
    }
   ],
   "source": [
    "volume"
   ]
  },
  {
   "cell_type": "raw",
   "id": "c2833092",
   "metadata": {},
   "source": []
  }
 ],
 "metadata": {
  "kernelspec": {
   "display_name": "Python 3",
   "language": "python",
   "name": "python3"
  },
  "language_info": {
   "codemirror_mode": {
    "name": "ipython",
    "version": 3
   },
   "file_extension": ".py",
   "mimetype": "text/x-python",
   "name": "python",
   "nbconvert_exporter": "python",
   "pygments_lexer": "ipython3",
   "version": "3.8.8"
  }
 },
 "nbformat": 4,
 "nbformat_minor": 5
}
